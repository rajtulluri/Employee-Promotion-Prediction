{
 "cells": [
  {
   "cell_type": "markdown",
   "metadata": {},
   "source": [
    "<h3>Employee Promotion Prediction</h3>\n",
    "<br><h5>The task is to predict whether a given employee will be promoted or not.<br>\n",
    "The following details for an employee is given :-</h5><br>\n",
    "    Department<br>\n",
    "    Region <br>\n",
    "    Education<br>\n",
    "    Gender<br>\n",
    "    Recruitment channel<br>\n",
    "    No of trainings<br>\n",
    "    Age<br>\n",
    "    Previous year ratings<br>\n",
    "    Length of service<br>\n",
    "    KPIs met(1 if >80%) <br>\n",
    "    Average training score<br>\n",
    "<h5>The target column is - is_promoted.</h5>"
   ]
  },
  {
   "cell_type": "code",
   "execution_count": 293,
   "metadata": {},
   "outputs": [],
   "source": [
    "import pandas as pd\n",
    "import numpy as np\n",
    "import matplotlib.pyplot as plt\n",
    "import seaborn as sns\n",
    "from sklearn.svm import SVC\n",
    "from sklearn.model_selection import train_test_split\n",
    "\n",
    "df = pd.read_csv(\"./employeePromotion.csv\")"
   ]
  },
  {
   "cell_type": "code",
   "execution_count": 294,
   "metadata": {},
   "outputs": [
    {
     "data": {
      "text/html": [
       "<div>\n",
       "<style scoped>\n",
       "    .dataframe tbody tr th:only-of-type {\n",
       "        vertical-align: middle;\n",
       "    }\n",
       "\n",
       "    .dataframe tbody tr th {\n",
       "        vertical-align: top;\n",
       "    }\n",
       "\n",
       "    .dataframe thead th {\n",
       "        text-align: right;\n",
       "    }\n",
       "</style>\n",
       "<table border=\"1\" class=\"dataframe\">\n",
       "  <thead>\n",
       "    <tr style=\"text-align: right;\">\n",
       "      <th></th>\n",
       "      <th>employee_id</th>\n",
       "      <th>no_of_trainings</th>\n",
       "      <th>age</th>\n",
       "      <th>previous_year_rating</th>\n",
       "      <th>length_of_service</th>\n",
       "      <th>KPIs_met &gt;80%</th>\n",
       "      <th>awards_won?</th>\n",
       "      <th>avg_training_score</th>\n",
       "      <th>is_promoted</th>\n",
       "    </tr>\n",
       "  </thead>\n",
       "  <tbody>\n",
       "    <tr>\n",
       "      <th>count</th>\n",
       "      <td>54808.000000</td>\n",
       "      <td>54808.000000</td>\n",
       "      <td>54808.000000</td>\n",
       "      <td>50684.000000</td>\n",
       "      <td>54808.000000</td>\n",
       "      <td>54808.000000</td>\n",
       "      <td>54808.000000</td>\n",
       "      <td>54808.000000</td>\n",
       "      <td>54808.000000</td>\n",
       "    </tr>\n",
       "    <tr>\n",
       "      <th>mean</th>\n",
       "      <td>39195.830627</td>\n",
       "      <td>1.253011</td>\n",
       "      <td>34.803915</td>\n",
       "      <td>3.329256</td>\n",
       "      <td>5.865512</td>\n",
       "      <td>0.351974</td>\n",
       "      <td>0.023172</td>\n",
       "      <td>63.386750</td>\n",
       "      <td>0.085170</td>\n",
       "    </tr>\n",
       "    <tr>\n",
       "      <th>std</th>\n",
       "      <td>22586.581449</td>\n",
       "      <td>0.609264</td>\n",
       "      <td>7.660169</td>\n",
       "      <td>1.259993</td>\n",
       "      <td>4.265094</td>\n",
       "      <td>0.477590</td>\n",
       "      <td>0.150450</td>\n",
       "      <td>13.371559</td>\n",
       "      <td>0.279137</td>\n",
       "    </tr>\n",
       "    <tr>\n",
       "      <th>min</th>\n",
       "      <td>1.000000</td>\n",
       "      <td>1.000000</td>\n",
       "      <td>20.000000</td>\n",
       "      <td>1.000000</td>\n",
       "      <td>1.000000</td>\n",
       "      <td>0.000000</td>\n",
       "      <td>0.000000</td>\n",
       "      <td>39.000000</td>\n",
       "      <td>0.000000</td>\n",
       "    </tr>\n",
       "    <tr>\n",
       "      <th>25%</th>\n",
       "      <td>19669.750000</td>\n",
       "      <td>1.000000</td>\n",
       "      <td>29.000000</td>\n",
       "      <td>3.000000</td>\n",
       "      <td>3.000000</td>\n",
       "      <td>0.000000</td>\n",
       "      <td>0.000000</td>\n",
       "      <td>51.000000</td>\n",
       "      <td>0.000000</td>\n",
       "    </tr>\n",
       "    <tr>\n",
       "      <th>50%</th>\n",
       "      <td>39225.500000</td>\n",
       "      <td>1.000000</td>\n",
       "      <td>33.000000</td>\n",
       "      <td>3.000000</td>\n",
       "      <td>5.000000</td>\n",
       "      <td>0.000000</td>\n",
       "      <td>0.000000</td>\n",
       "      <td>60.000000</td>\n",
       "      <td>0.000000</td>\n",
       "    </tr>\n",
       "    <tr>\n",
       "      <th>75%</th>\n",
       "      <td>58730.500000</td>\n",
       "      <td>1.000000</td>\n",
       "      <td>39.000000</td>\n",
       "      <td>4.000000</td>\n",
       "      <td>7.000000</td>\n",
       "      <td>1.000000</td>\n",
       "      <td>0.000000</td>\n",
       "      <td>76.000000</td>\n",
       "      <td>0.000000</td>\n",
       "    </tr>\n",
       "    <tr>\n",
       "      <th>max</th>\n",
       "      <td>78298.000000</td>\n",
       "      <td>10.000000</td>\n",
       "      <td>60.000000</td>\n",
       "      <td>5.000000</td>\n",
       "      <td>37.000000</td>\n",
       "      <td>1.000000</td>\n",
       "      <td>1.000000</td>\n",
       "      <td>99.000000</td>\n",
       "      <td>1.000000</td>\n",
       "    </tr>\n",
       "  </tbody>\n",
       "</table>\n",
       "</div>"
      ],
      "text/plain": [
       "        employee_id  no_of_trainings           age  previous_year_rating  \\\n",
       "count  54808.000000     54808.000000  54808.000000          50684.000000   \n",
       "mean   39195.830627         1.253011     34.803915              3.329256   \n",
       "std    22586.581449         0.609264      7.660169              1.259993   \n",
       "min        1.000000         1.000000     20.000000              1.000000   \n",
       "25%    19669.750000         1.000000     29.000000              3.000000   \n",
       "50%    39225.500000         1.000000     33.000000              3.000000   \n",
       "75%    58730.500000         1.000000     39.000000              4.000000   \n",
       "max    78298.000000        10.000000     60.000000              5.000000   \n",
       "\n",
       "       length_of_service  KPIs_met >80%   awards_won?  avg_training_score  \\\n",
       "count       54808.000000   54808.000000  54808.000000        54808.000000   \n",
       "mean            5.865512       0.351974      0.023172           63.386750   \n",
       "std             4.265094       0.477590      0.150450           13.371559   \n",
       "min             1.000000       0.000000      0.000000           39.000000   \n",
       "25%             3.000000       0.000000      0.000000           51.000000   \n",
       "50%             5.000000       0.000000      0.000000           60.000000   \n",
       "75%             7.000000       1.000000      0.000000           76.000000   \n",
       "max            37.000000       1.000000      1.000000           99.000000   \n",
       "\n",
       "        is_promoted  \n",
       "count  54808.000000  \n",
       "mean       0.085170  \n",
       "std        0.279137  \n",
       "min        0.000000  \n",
       "25%        0.000000  \n",
       "50%        0.000000  \n",
       "75%        0.000000  \n",
       "max        1.000000  "
      ]
     },
     "execution_count": 294,
     "metadata": {},
     "output_type": "execute_result"
    }
   ],
   "source": [
    "df.describe()"
   ]
  },
  {
   "cell_type": "code",
   "execution_count": 295,
   "metadata": {},
   "outputs": [
    {
     "data": {
      "text/plain": [
       "employee_id                0\n",
       "department                 0\n",
       "region                     0\n",
       "education               2409\n",
       "gender                     0\n",
       "recruitment_channel        0\n",
       "no_of_trainings            0\n",
       "age                        0\n",
       "previous_year_rating    4124\n",
       "length_of_service          0\n",
       "KPIs_met >80%              0\n",
       "awards_won?                0\n",
       "avg_training_score         0\n",
       "is_promoted                0\n",
       "dtype: int64"
      ]
     },
     "execution_count": 295,
     "metadata": {},
     "output_type": "execute_result"
    }
   ],
   "source": [
    "df.isnull().sum()"
   ]
  },
  {
   "cell_type": "markdown",
   "metadata": {},
   "source": [
    "The describe() method gives a general view of the numerical data in the sample space.<br>\n",
    "The isnull().sum() chaining gave us an idea of the missing value counts in each column. Education and Previous year ratings have missing values and have to be handled. "
   ]
  },
  {
   "cell_type": "code",
   "execution_count": 296,
   "metadata": {},
   "outputs": [
    {
     "data": {
      "image/png": "[encoded data removed]",
      "text/plain": [
       "<Figure size 1152x576 with 1 Axes>"
      ]
     },
     "metadata": {},
     "output_type": "display_data"
    }
   ],
   "source": [
    "plt.figure(figsize=(16,8))\n",
    "sns.set_style('dark')\n",
    "sns.distplot(df['awards_won?'],kde=False,label='awards won')\n",
    "plt.show()"
   ]
  },
  {
   "cell_type": "code",
   "execution_count": 297,
   "metadata": {},
   "outputs": [
    {
     "name": "stdout",
     "output_type": "stream",
     "text": [
      "For promotion = False\n",
      " 0    49429\n",
      "1      711\n",
      "Name: awards_won?, dtype: int64\n",
      "For promotion = True\n",
      " 0    4109\n",
      "1     559\n",
      "Name: awards_won?, dtype: int64\n"
     ]
    }
   ],
   "source": [
    "print(\"For promotion = False\\n\",df[df.is_promoted == 0]['awards_won?'].value_counts())\n",
    "print(\"For promotion = True\\n\",df[df.is_promoted == 1]['awards_won?'].value_counts())"
   ]
  },
  {
   "cell_type": "markdown",
   "metadata": {},
   "source": [
    "The True values for this column is very small as compared to the False value. We cannot surely say that if the employee has won an award, the employee is definetly getting promoted. Logically awards should have some positive correlation to getting a promotion."
   ]
  },
  {
   "cell_type": "code",
   "execution_count": 298,
   "metadata": {},
   "outputs": [],
   "source": [
    "df.education = df.education.fillna(df.education.mode()[0])"
   ]
  },
  {
   "cell_type": "markdown",
   "metadata": {},
   "source": [
    "The education has missing values, we can fill it by mode, that would show minimum criteria for education the company requires.<br>\n",
    "The education can be filled by mode as people working at the company are likely to have some basic education and the missing value is likely to be recording error."
   ]
  },
  {
   "cell_type": "code",
   "execution_count": 299,
   "metadata": {},
   "outputs": [
    {
     "name": "stdout",
     "output_type": "stream",
     "text": [
      "Null rating counts of employees with length of service 1\n",
      " 4124\n",
      "Null rating counts of employees with length of service 1 and promoted\n",
      " 339\n"
     ]
    }
   ],
   "source": [
    "service_filter = df[df.length_of_service == 1]\n",
    "print(\"Null rating counts of employees with length of service 1\\n\",service_filter.previous_year_rating.isnull().sum())\n",
    "print(\"Null rating counts of employees with length of service 1 and promoted\\n\",service_filter[service_filter.is_promoted == 1].previous_year_rating.isnull().sum())\n",
    "df.previous_year_rating = df.previous_year_rating.fillna(0)"
   ]
  },
  {
   "cell_type": "markdown",
   "metadata": {},
   "source": [
    "The Previous year rating column contains missing values and all of them belong to employees having 1 year of Service length. Meaning alot of the new employees dont have records for this column. Filling it with 0's would be right as it is the min rating.<br>\n",
    "We cannot prune the rows with missing values as there are 339 promoted employees who have service length as 1 and have missing ratings. Filling it with mean would uneccesarily give a newer employee higher rating."
   ]
  },
  {
   "cell_type": "code",
   "execution_count": 300,
   "metadata": {},
   "outputs": [
    {
     "data": {
      "text/html": [
       "<div>\n",
       "<style scoped>\n",
       "    .dataframe tbody tr th:only-of-type {\n",
       "        vertical-align: middle;\n",
       "    }\n",
       "\n",
       "    .dataframe tbody tr th {\n",
       "        vertical-align: top;\n",
       "    }\n",
       "\n",
       "    .dataframe thead th {\n",
       "        text-align: right;\n",
       "    }\n",
       "</style>\n",
       "<table border=\"1\" class=\"dataframe\">\n",
       "  <thead>\n",
       "    <tr style=\"text-align: right;\">\n",
       "      <th></th>\n",
       "      <th>employee_id</th>\n",
       "      <th>no_of_trainings</th>\n",
       "      <th>age</th>\n",
       "      <th>previous_year_rating</th>\n",
       "      <th>length_of_service</th>\n",
       "      <th>KPIs_met &gt;80%</th>\n",
       "      <th>awards_won?</th>\n",
       "      <th>avg_training_score</th>\n",
       "      <th>is_promoted</th>\n",
       "    </tr>\n",
       "  </thead>\n",
       "  <tbody>\n",
       "    <tr>\n",
       "      <th>employee_id</th>\n",
       "      <td>1.000000</td>\n",
       "      <td>-0.005121</td>\n",
       "      <td>0.000437</td>\n",
       "      <td>0.002350</td>\n",
       "      <td>0.001274</td>\n",
       "      <td>-0.002501</td>\n",
       "      <td>0.008420</td>\n",
       "      <td>-0.000586</td>\n",
       "      <td>0.001206</td>\n",
       "    </tr>\n",
       "    <tr>\n",
       "      <th>no_of_trainings</th>\n",
       "      <td>-0.005121</td>\n",
       "      <td>1.000000</td>\n",
       "      <td>-0.081278</td>\n",
       "      <td>-0.064119</td>\n",
       "      <td>-0.057275</td>\n",
       "      <td>-0.045576</td>\n",
       "      <td>-0.007628</td>\n",
       "      <td>0.042517</td>\n",
       "      <td>-0.024896</td>\n",
       "    </tr>\n",
       "    <tr>\n",
       "      <th>age</th>\n",
       "      <td>0.000437</td>\n",
       "      <td>-0.081278</td>\n",
       "      <td>1.000000</td>\n",
       "      <td>0.177935</td>\n",
       "      <td>0.657111</td>\n",
       "      <td>-0.025592</td>\n",
       "      <td>-0.008169</td>\n",
       "      <td>-0.048380</td>\n",
       "      <td>-0.017166</td>\n",
       "    </tr>\n",
       "    <tr>\n",
       "      <th>previous_year_rating</th>\n",
       "      <td>0.002350</td>\n",
       "      <td>-0.064119</td>\n",
       "      <td>0.177935</td>\n",
       "      <td>1.000000</td>\n",
       "      <td>0.191163</td>\n",
       "      <td>0.274593</td>\n",
       "      <td>0.021475</td>\n",
       "      <td>0.058718</td>\n",
       "      <td>0.125991</td>\n",
       "    </tr>\n",
       "    <tr>\n",
       "      <th>length_of_service</th>\n",
       "      <td>0.001274</td>\n",
       "      <td>-0.057275</td>\n",
       "      <td>0.657111</td>\n",
       "      <td>0.191163</td>\n",
       "      <td>1.000000</td>\n",
       "      <td>-0.077693</td>\n",
       "      <td>-0.039927</td>\n",
       "      <td>-0.038122</td>\n",
       "      <td>-0.010670</td>\n",
       "    </tr>\n",
       "    <tr>\n",
       "      <th>KPIs_met &gt;80%</th>\n",
       "      <td>-0.002501</td>\n",
       "      <td>-0.045576</td>\n",
       "      <td>-0.025592</td>\n",
       "      <td>0.274593</td>\n",
       "      <td>-0.077693</td>\n",
       "      <td>1.000000</td>\n",
       "      <td>0.097000</td>\n",
       "      <td>0.078391</td>\n",
       "      <td>0.221582</td>\n",
       "    </tr>\n",
       "    <tr>\n",
       "      <th>awards_won?</th>\n",
       "      <td>0.008420</td>\n",
       "      <td>-0.007628</td>\n",
       "      <td>-0.008169</td>\n",
       "      <td>0.021475</td>\n",
       "      <td>-0.039927</td>\n",
       "      <td>0.097000</td>\n",
       "      <td>1.000000</td>\n",
       "      <td>0.072138</td>\n",
       "      <td>0.195871</td>\n",
       "    </tr>\n",
       "    <tr>\n",
       "      <th>avg_training_score</th>\n",
       "      <td>-0.000586</td>\n",
       "      <td>0.042517</td>\n",
       "      <td>-0.048380</td>\n",
       "      <td>0.058718</td>\n",
       "      <td>-0.038122</td>\n",
       "      <td>0.078391</td>\n",
       "      <td>0.072138</td>\n",
       "      <td>1.000000</td>\n",
       "      <td>0.181147</td>\n",
       "    </tr>\n",
       "    <tr>\n",
       "      <th>is_promoted</th>\n",
       "      <td>0.001206</td>\n",
       "      <td>-0.024896</td>\n",
       "      <td>-0.017166</td>\n",
       "      <td>0.125991</td>\n",
       "      <td>-0.010670</td>\n",
       "      <td>0.221582</td>\n",
       "      <td>0.195871</td>\n",
       "      <td>0.181147</td>\n",
       "      <td>1.000000</td>\n",
       "    </tr>\n",
       "  </tbody>\n",
       "</table>\n",
       "</div>"
      ],
      "text/plain": [
       "                      employee_id  no_of_trainings       age  \\\n",
       "employee_id              1.000000        -0.005121  0.000437   \n",
       "no_of_trainings         -0.005121         1.000000 -0.081278   \n",
       "age                      0.000437        -0.081278  1.000000   \n",
       "previous_year_rating     0.002350        -0.064119  0.177935   \n",
       "length_of_service        0.001274        -0.057275  0.657111   \n",
       "KPIs_met >80%           -0.002501        -0.045576 -0.025592   \n",
       "awards_won?              0.008420        -0.007628 -0.008169   \n",
       "avg_training_score      -0.000586         0.042517 -0.048380   \n",
       "is_promoted              0.001206        -0.024896 -0.017166   \n",
       "\n",
       "                      previous_year_rating  length_of_service  KPIs_met >80%  \\\n",
       "employee_id                       0.002350           0.001274      -0.002501   \n",
       "no_of_trainings                  -0.064119          -0.057275      -0.045576   \n",
       "age                               0.177935           0.657111      -0.025592   \n",
       "previous_year_rating              1.000000           0.191163       0.274593   \n",
       "length_of_service                 0.191163           1.000000      -0.077693   \n",
       "KPIs_met >80%                     0.274593          -0.077693       1.000000   \n",
       "awards_won?                       0.021475          -0.039927       0.097000   \n",
       "avg_training_score                0.058718          -0.038122       0.078391   \n",
       "is_promoted                       0.125991          -0.010670       0.221582   \n",
       "\n",
       "                      awards_won?  avg_training_score  is_promoted  \n",
       "employee_id              0.008420           -0.000586     0.001206  \n",
       "no_of_trainings         -0.007628            0.042517    -0.024896  \n",
       "age                     -0.008169           -0.048380    -0.017166  \n",
       "previous_year_rating     0.021475            0.058718     0.125991  \n",
       "length_of_service       -0.039927           -0.038122    -0.010670  \n",
       "KPIs_met >80%            0.097000            0.078391     0.221582  \n",
       "awards_won?              1.000000            0.072138     0.195871  \n",
       "avg_training_score       0.072138            1.000000     0.181147  \n",
       "is_promoted              0.195871            0.181147     1.000000  "
      ]
     },
     "execution_count": 300,
     "metadata": {},
     "output_type": "execute_result"
    }
   ],
   "source": [
    "df.corr()"
   ]
  },
  {
   "cell_type": "markdown",
   "metadata": {},
   "source": [
    "The corr() function gives us insight into the correaltion of numerical columns between each other in a matrix form. This can give us an idea as to which columns can impact the model either positively(predicting 1) or negatively(predicting 0) and which columns add no insight to the model."
   ]
  },
  {
   "cell_type": "code",
   "execution_count": 301,
   "metadata": {},
   "outputs": [],
   "source": [
    "df.drop(['employee_id','region','recruitment_channel'],axis=1,inplace=True)"
   ]
  },
  {
   "cell_type": "markdown",
   "metadata": {},
   "source": [
    "Dropping the columns Region and Id. The region column is categorical and has many levels.Logically it has no impact on promotions. <br>\n",
    "Converting it to dummy columns will increase the number of columns for the model. The Id is to be removed as well as it is unique for each entry in sample space."
   ]
  },
  {
   "cell_type": "code",
   "execution_count": 302,
   "metadata": {},
   "outputs": [
    {
     "data": {
      "text/plain": [
       "<matplotlib.legend.Legend at 0x7f28e596f438>"
      ]
     },
     "execution_count": 302,
     "metadata": {},
     "output_type": "execute_result"
    },
    {
     "data": {
      "image/png": "[encoded data removed]",
      "text/plain": [
       "<Figure size 1152x576 with 1 Axes>"
      ]
     },
     "metadata": {},
     "output_type": "display_data"
    }
   ],
   "source": [
    "plt.figure(figsize=(16,8))\n",
    "sns.set_style('dark')\n",
    "sns.distplot(df[df.is_promoted == 1].avg_training_score,kde=True,label='promoted')\n",
    "sns.distplot(df[df.is_promoted == 0].avg_training_score,kde=True,label='not promoted')\n",
    "plt.legend()"
   ]
  },
  {
   "cell_type": "code",
   "execution_count": 316,
   "metadata": {},
   "outputs": [
    {
     "data": {
      "text/plain": [
       "<matplotlib.axes._subplots.AxesSubplot at 0x7f28e5887518>"
      ]
     },
     "execution_count": 316,
     "metadata": {},
     "output_type": "execute_result"
    },
    {
     "data": {
      "image/png": "[encoded data removed]",
      "text/plain": [
       "<Figure size 1152x576 with 1 Axes>"
      ]
     },
     "metadata": {},
     "output_type": "display_data"
    }
   ],
   "source": [
    "plt.figure(figsize=(16,8))\n",
    "sns.set_style('dark')\n",
    "sns.boxplot(x=df.is_promoted,y=df.avg_training_score)"
   ]
  },
  {
   "cell_type": "markdown",
   "metadata": {},
   "source": [
    "The distribution for avg_training_score for Class true and false shows a small region towards the end where when socres increase the promotion chances increase i.e. a slightly positive correlation. Adding this to the model can be useful for cases having high training score are classified indefinetly and low training score is correlated to other attributes"
   ]
  },
  {
   "cell_type": "code",
   "execution_count": 303,
   "metadata": {},
   "outputs": [],
   "source": [
    "df = pd.get_dummies(df,columns=['department','education','gender'],\n",
    "                       prefix=['dpt_','edu_','gender_'])"
   ]
  },
  {
   "cell_type": "markdown",
   "metadata": {},
   "source": [
    "For the Categorical variables, we create dummy binary columns for better performance of the classifier(model) rather than keeping them categorical or encoding them to numeric."
   ]
  },
  {
   "cell_type": "code",
   "execution_count": 311,
   "metadata": {},
   "outputs": [
    {
     "name": "stdout",
     "output_type": "stream",
     "text": [
      "0.9902447331289836\n",
      "0.9318347686469128\n"
     ]
    }
   ],
   "source": [
    "#Applying Gradient Boosting Classifier\n",
    "target = df.is_promoted\n",
    "train = df.drop('is_promoted',axis=1)\n",
    "X_train,X_test,y_train,y_test = train_test_split(train,target,random_state=0)\n",
    "model = GradientBoostingClassifier(learning_rate=0.1,max_depth=14,random_state=0)\n",
    "model.fit(X_train,y_train)\n",
    "print(model.score(X_train,y_train))\n",
    "print(model.score(X_test,y_test))"
   ]
  },
  {
   "cell_type": "code",
   "execution_count": 319,
   "metadata": {},
   "outputs": [
    {
     "name": "stdout",
     "output_type": "stream",
     "text": [
      "0.9505424998783633\n",
      "0.9369435118960736\n"
     ]
    }
   ],
   "source": [
    "#Applying Decision Tree\n",
    "target = df.is_promoted\n",
    "train = df.drop('is_promoted',axis=1)\n",
    "X_train,X_test,y_train,y_test = train_test_split(train,target,random_state=0)\n",
    "model = DecisionTreeClassifier(max_depth=14)\n",
    "model.fit(X_train,y_train)\n",
    "print(model.score(X_train,y_train))\n",
    "print(model.score(X_test,y_test))"
   ]
  },
  {
   "cell_type": "markdown",
   "metadata": {},
   "source": [
    "The model applied is a Gradient Boosting Classifier and Decision Tree, Gradient Boosting Classifier out performs the Decision Tree model on the training set, but on the test set the two models have accuracy very close to eachother. The hyper parameter tuning can be done via Grid Search"
   ]
  },
  {
   "cell_type": "code",
   "execution_count": 317,
   "metadata": {},
   "outputs": [],
   "source": [
    "model = GradientBoostingClassifier(random_state=0)\n",
    "grid_vals = {'learning_rate':np.arange(0.1,1,0.1),'max_depth':np.arange(4,20,1)}\n",
    "grid_mod = GridSearchCV(model,param_grid=grid_vals,cv=10)\n",
    "grid_mod.fit(X_train,y_train)\n",
    "print(grid_mod.best_params_)\n",
    "print(grid_mod.best_score_)"
   ]
  }
 ],
 "metadata": {
  "kernelspec": {
   "display_name": "Python 3",
   "language": "python",
   "name": "python3"
  },
  "language_info": {
   "codemirror_mode": {
    "name": "ipython",
    "version": 3
   },
   "file_extension": ".py",
   "mimetype": "text/x-python",
   "name": "python",
   "nbconvert_exporter": "python",
   "pygments_lexer": "ipython3",
   "version": "3.7.3"
  }
 },
 "nbformat": 4,
 "nbformat_minor": 2
}
